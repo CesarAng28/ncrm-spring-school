{
 "cells": [
  {
   "cell_type": "markdown",
   "metadata": {},
   "source": [
    "# Programming in Python\n",
    "\n",
    "This notebook offers an introduction to progamming in the Python language. It's impossible to cover it all in a single notebook (or a single class!); however, this notebook highlights core aspects of Python that are important for this class. I highly recommend the (free and online!) book <a href=https://python.swaroopch.com/><i>A Byte of Python</i></a> if you would like to further study the ideas outlined in this notebook.\n",
    "\n",
    "## Hello world!\n",
    "\n",
    "As is customary when learning a new programming language, we can start a hello world program:"
   ]
  },
  {
   "cell_type": "code",
   "execution_count": 1,
   "metadata": {},
   "outputs": [
    {
     "name": "stdout",
     "output_type": "stream",
     "text": [
      "hello world!\n"
     ]
    }
   ],
   "source": [
    "print(\"hello world!\")"
   ]
  },
  {
   "cell_type": "markdown",
   "metadata": {},
   "source": [
    "We can also use single quotes to specify a string:"
   ]
  },
  {
   "cell_type": "code",
   "execution_count": 2,
   "metadata": {},
   "outputs": [
    {
     "name": "stdout",
     "output_type": "stream",
     "text": [
      "hello world!\n"
     ]
    }
   ],
   "source": [
    "print('hello world!')"
   ]
  },
  {
   "cell_type": "markdown",
   "metadata": {},
   "source": [
    "## Comments\n",
    "\n",
    "It is absolutely essential to comment your code when writing a program in any language and this is no different for Python. You can easily add inline and multi-line comments in Python. Consider the following inline comments:"
   ]
  },
  {
   "cell_type": "code",
   "execution_count": 3,
   "metadata": {},
   "outputs": [
    {
     "name": "stdout",
     "output_type": "stream",
     "text": [
      "I love you Python.\n"
     ]
    }
   ],
   "source": [
    "# You can put a comment on a newline\n",
    "print('I love you Python.') # You can also put a comment here"
   ]
  },
  {
   "cell_type": "markdown",
   "metadata": {},
   "source": [
    "The Python interpreter ignores everything after the hash symbol. Multi-line comments are specified using 3 consecutive quotation marks (either double or single quotes):"
   ]
  },
  {
   "cell_type": "code",
   "execution_count": 4,
   "metadata": {},
   "outputs": [
    {
     "name": "stdout",
     "output_type": "stream",
     "text": [
      "Here is one of my all time favorite Trump\n",
      "tweets on climate change.\n"
     ]
    }
   ],
   "source": [
    "print('''Here is one of my all time favorite Trump\n",
    "tweets on climate change.''')\n",
    "\n",
    "#print('The concept of global warming was created by and for the Chinese in order to make U.S. manufacturing non-competitive.')"
   ]
  },
  {
   "cell_type": "markdown",
   "metadata": {},
   "source": [
    "For more on best practices regarding commenting code, see the <a href=\"https://google.github.io/styleguide/pyguide.html#Comments\">Google's Python style guide</a>. I will illustrate (you need to hold me to this!) these best practices throughout the course. In short, as outlined in the book <i>Byte of Python Use</i>, use as many useful comments as you can in your program to:\n",
    "* explain assumptions\n",
    "* explain important decisions\n",
    "* explain important details\n",
    "* explain problems you're trying to solve\n",
    "* explain problems you're trying to overcome in your program, etc.\n",
    "\n",
    "<a href=\"https://blog.codinghorror.com/code-tells-you-how-comments-tell-you-why/\">Code tells you how, comments should tell you why</a>."
   ]
  },
  {
   "cell_type": "markdown",
   "metadata": {},
   "source": [
    "## String methods and concatenation\n",
    "\n",
    "Strings -- sequences of characters -- are obviously important for a text as data course. We have already seen how to specify a string in Python, using both single and double quotation marks. (<b>Note</b>: I tend to use single quotes, as this is easier on my keyboard. You can use whichever you like best; however, be consistent.) Strings also have a number of \"methods\" that will prove useful throughout the term. For instance, say that we want to convert a string to all lowercase:"
   ]
  },
  {
   "cell_type": "code",
   "execution_count": 5,
   "metadata": {},
   "outputs": [
    {
     "name": "stdout",
     "output_type": "stream",
     "text": [
      "university of exeter\n"
     ]
    }
   ],
   "source": [
    "print('University of Exeter'.lower())"
   ]
  },
  {
   "cell_type": "markdown",
   "metadata": {},
   "source": [
    "Or all uppercase letters,"
   ]
  },
  {
   "cell_type": "code",
   "execution_count": 6,
   "metadata": {},
   "outputs": [
    {
     "data": {
      "text/plain": [
       "'UNIVERSITY OF EXETER'"
      ]
     },
     "execution_count": 6,
     "metadata": {},
     "output_type": "execute_result"
    }
   ],
   "source": [
    "'University of Exeter'.upper()"
   ]
  },
  {
   "cell_type": "markdown",
   "metadata": {},
   "source": [
    "Another method that we will rely on heavily throughout the course is the <b><span style=\"color:green\">split()</span></b> method,"
   ]
  },
  {
   "cell_type": "code",
   "execution_count": 14,
   "metadata": {},
   "outputs": [
    {
     "data": {
      "text/plain": [
       "'of'"
      ]
     },
     "execution_count": 14,
     "metadata": {},
     "output_type": "execute_result"
    }
   ],
   "source": [
    "'University of Exeter'.split(' ')"
   ]
  },
  {
   "cell_type": "code",
   "execution_count": null,
   "metadata": {},
   "outputs": [],
   "source": [
    "len('University of Exeter'.split(' '))"
   ]
  },
  {
   "cell_type": "markdown",
   "metadata": {},
   "source": [
    "Here, we \"split\" the string based on space (i.e., the ' '). There are a bunch of other string methods (see this <a href=\"https://www.shortcutfoo.com/app/dojos/python-strings/cheatsheet\">cheatsheet</a> for more information) and we will use several of these methods throughout the course. We will often want to combine (or concatenate) strings together."
   ]
  },
  {
   "cell_type": "code",
   "execution_count": 15,
   "metadata": {},
   "outputs": [
    {
     "data": {
      "text/plain": [
       "'datascience'"
      ]
     },
     "execution_count": 15,
     "metadata": {},
     "output_type": "execute_result"
    }
   ],
   "source": [
    "# This code illustrates one way to concatenate a string\n",
    "'data' + 'science'"
   ]
  },
  {
   "cell_type": "code",
   "execution_count": 16,
   "metadata": {},
   "outputs": [
    {
     "data": {
      "text/plain": [
       "'data science'"
      ]
     },
     "execution_count": 16,
     "metadata": {},
     "output_type": "execute_result"
    }
   ],
   "source": [
    "'data' + ' ' + 'science'"
   ]
  },
  {
   "cell_type": "code",
   "execution_count": 17,
   "metadata": {
    "scrolled": true
   },
   "outputs": [
    {
     "data": {
      "text/plain": [
       "'data science'"
      ]
     },
     "execution_count": 17,
     "metadata": {},
     "output_type": "execute_result"
    }
   ],
   "source": [
    "'data ' + 'science'"
   ]
  },
  {
   "cell_type": "markdown",
   "metadata": {},
   "source": [
    "You can also use the \"format\" strings in Python 3 to insert/concatenate a string. "
   ]
  },
  {
   "cell_type": "code",
   "execution_count": 18,
   "metadata": {},
   "outputs": [
    {
     "name": "stdout",
     "output_type": "stream",
     "text": [
      "Data scientist is the new sexy job.\n"
     ]
    }
   ],
   "source": [
    "term1 = 'scientist'\n",
    "term2 = 'sexy'\n",
    "print(f'Data {term1} is the new {term2} job.')"
   ]
  },
  {
   "cell_type": "markdown",
   "metadata": {},
   "source": [
    "## Numbers\n",
    "\n",
    "Here is the description of numbers in <i>A Byte of Python</i>:\n",
    "\n",
    "\"Numbers are mainly of two types -- integers and floats.\n",
    "An example of an integer is 2 which is just a whole number.\n",
    "Examples of floating point numbers (or floats for short) are 3.23 and 52.3E-4. The E notation indicates powers of 10. In this case, 52.3E-4 means 52.3 * 10^-4^.\"\n",
    "\n",
    "That pretty much sums it up!"
   ]
  },
  {
   "cell_type": "markdown",
   "metadata": {},
   "source": [
    "## Variables and operators\n",
    "\n",
    "Often, we want to store numbers in strings in variables and perform \"operations\" on those <b>variables</b>. "
   ]
  },
  {
   "cell_type": "code",
   "execution_count": 19,
   "metadata": {},
   "outputs": [
    {
     "data": {
      "text/plain": [
       "'datascience'"
      ]
     },
     "execution_count": 19,
     "metadata": {},
     "output_type": "execute_result"
    }
   ],
   "source": [
    "# Assigning variables is easy in Python\n",
    "a = 'data'\n",
    "b = 'science'\n",
    "\n",
    "# And we can 'do things' with these variables\n",
    "a + b"
   ]
  },
  {
   "cell_type": "code",
   "execution_count": 20,
   "metadata": {},
   "outputs": [
    {
     "data": {
      "text/plain": [
       "6"
      ]
     },
     "execution_count": 20,
     "metadata": {},
     "output_type": "execute_result"
    }
   ],
   "source": [
    "# Works the same way for numbers\n",
    "c = 2\n",
    "d = 4\n",
    "\n",
    "# And we can add these variables\n",
    "c + d"
   ]
  },
  {
   "cell_type": "code",
   "execution_count": 21,
   "metadata": {},
   "outputs": [
    {
     "name": "stdout",
     "output_type": "stream",
     "text": [
      "6\n"
     ]
    }
   ],
   "source": [
    "# We can also assign a new variable based on an operation\n",
    "x = c + d\n",
    "print(x)"
   ]
  },
  {
   "cell_type": "markdown",
   "metadata": {},
   "source": [
    "Be careful, however, when trying to mix types:"
   ]
  },
  {
   "cell_type": "code",
   "execution_count": 23,
   "metadata": {},
   "outputs": [
    {
     "data": {
      "text/plain": [
       "'data2'"
      ]
     },
     "execution_count": 23,
     "metadata": {},
     "output_type": "execute_result"
    }
   ],
   "source": [
    "# Try to concatenate a string and an integer\n",
    "a + c"
   ]
  },
  {
   "cell_type": "code",
   "execution_count": null,
   "metadata": {},
   "outputs": [],
   "source": [
    "# Instead, we need to preform the operation using consistent types\n",
    "a + str(c)"
   ]
  },
  {
   "cell_type": "markdown",
   "metadata": {},
   "source": [
    "### Operators\n",
    "\n",
    "Python includes all of the arithmetic (for integers and floats), relational, and logical operators that you will need (<a href=\"https://www.tutorialspoint.com/python/python_basic_operators.htm\">click here for a complete list of operators</a>). Let's look at the main <b>arithmetic</b> operators."
   ]
  },
  {
   "cell_type": "code",
   "execution_count": null,
   "metadata": {},
   "outputs": [],
   "source": [
    "3 + 5 # addition"
   ]
  },
  {
   "cell_type": "code",
   "execution_count": null,
   "metadata": {},
   "outputs": [],
   "source": [
    "3 - 5 # subtraction"
   ]
  },
  {
   "cell_type": "code",
   "execution_count": null,
   "metadata": {},
   "outputs": [],
   "source": [
    "3 * 5 # multiplication"
   ]
  },
  {
   "cell_type": "code",
   "execution_count": null,
   "metadata": {},
   "outputs": [],
   "source": [
    "3 / 5 # division"
   ]
  },
  {
   "cell_type": "markdown",
   "metadata": {},
   "source": [
    "There are a number of other arithmetic operators that we could run into throughout the term, such as:\n",
    "\n",
    "* Power: ``` 5 ** 3 ``` outputs ``` 125 ```.\n",
    "* Modulo: ``` 100 % 10 ``` outputs ```0```.\n",
    "* And so on and so forth (again, see (<a href=\"https://www.tutorialspoint.com/python/python_basic_operators.htm\">here</a> for more info)"
   ]
  },
  {
   "cell_type": "markdown",
   "metadata": {},
   "source": [
    "We will also often make use of <b>relational</b> operators. For instance, the relational \"equals\" operator is important for testing the equality between two objects:"
   ]
  },
  {
   "cell_type": "code",
   "execution_count": 25,
   "metadata": {},
   "outputs": [
    {
     "data": {
      "text/plain": [
       "False"
      ]
     },
     "execution_count": 25,
     "metadata": {},
     "output_type": "execute_result"
    }
   ],
   "source": [
    "a = 2\n",
    "b = 3\n",
    "\n",
    "# Are a and b equal?\n",
    "a == b"
   ]
  },
  {
   "cell_type": "code",
   "execution_count": null,
   "metadata": {},
   "outputs": [],
   "source": [
    "# And if we re-assign variable a to 3?\n",
    "a = 3\n",
    "a == b"
   ]
  },
  {
   "cell_type": "markdown",
   "metadata": {},
   "source": [
    "Here are the other relational operators that we will use:\n",
    "\n",
    "* `!=` (not equal to)\n",
    "* `<`  (less than)\n",
    "* `>`  (greater than)\n",
    "* `<=` (less than or equal to)\n",
    "* `>=` (greater than or equal to)\n",
    "\n",
    "Finally, Python also provides a set of <b>logical</b> and <b>membership</b> operators:\n",
    "\n",
    "* `and` (boolean AND)\n",
    "* `or`  (boolean OR)\n",
    "* `not` (boolean NOT)\n",
    "* `in` (membership)\n",
    "\n",
    "So, for instance,\n"
   ]
  },
  {
   "cell_type": "code",
   "execution_count": 26,
   "metadata": {},
   "outputs": [
    {
     "data": {
      "text/plain": [
       "True"
      ]
     },
     "execution_count": 26,
     "metadata": {},
     "output_type": "execute_result"
    }
   ],
   "source": [
    "a and b == 3"
   ]
  },
  {
   "cell_type": "code",
   "execution_count": 30,
   "metadata": {},
   "outputs": [],
   "source": [
    "tokens = 'University of Exeter'.split(' ')"
   ]
  },
  {
   "cell_type": "code",
   "execution_count": 32,
   "metadata": {},
   "outputs": [
    {
     "data": {
      "text/plain": [
       "True"
      ]
     },
     "execution_count": 32,
     "metadata": {},
     "output_type": "execute_result"
    }
   ],
   "source": [
    "'Exeter' in tokens"
   ]
  },
  {
   "cell_type": "code",
   "execution_count": 34,
   "metadata": {},
   "outputs": [
    {
     "data": {
      "text/plain": [
       "True"
      ]
     },
     "execution_count": 34,
     "metadata": {},
     "output_type": "execute_result"
    }
   ],
   "source": [
    "'exeter' in 'University of Exeter'.lower()"
   ]
  },
  {
   "cell_type": "code",
   "execution_count": null,
   "metadata": {},
   "outputs": [],
   "source": [
    "'Travis' in 'University of Exeter'.split(' ')"
   ]
  },
  {
   "cell_type": "markdown",
   "metadata": {},
   "source": [
    "We will also occasionally use the following <b>assignment</b> operator to increment counter (more on this when we get to \"loops\"),"
   ]
  },
  {
   "cell_type": "code",
   "execution_count": 38,
   "metadata": {},
   "outputs": [
    {
     "name": "stdout",
     "output_type": "stream",
     "text": [
      "0\n",
      "-2\n"
     ]
    }
   ],
   "source": [
    "# Assignment for i\n",
    "i = 0\n",
    "print(i)\n",
    "\n",
    "# Increment i by 1\n",
    "i -= 2\n",
    "\n",
    "print(i)"
   ]
  },
  {
   "cell_type": "markdown",
   "metadata": {},
   "source": [
    "## Control flow\n",
    "\n",
    "For simple programs -- such as those outlined in the code above -- executing code from top to bottom works just fine. However, for everything else, we will need a bit more control. This is where <b>control flow</b> statements come in handy. In this section, we will introduce Python's three control flow statements: `if`, `for`, and `while`.\n",
    "\n",
    "### The `if` statement\n",
    "\n",
    "The value of the various logical and relational operators outlined above really come into focus when combined with the `if` statment in Python. Let's take a look at several examples.\n",
    "\n",
    "<b>Example 1</b>: Simple if/else statement. Check whether our Trump tweet includes the phrase \"global warming.\""
   ]
  },
  {
   "cell_type": "code",
   "execution_count": 45,
   "metadata": {},
   "outputs": [
    {
     "name": "stdout",
     "output_type": "stream",
     "text": [
      "Found global in tweet.\n"
     ]
    }
   ],
   "source": [
    "# Initialize our program\n",
    "keyword = 'Global'\n",
    "tweet = 'The concept of global warming was created by and for the Chinese in order to make U.S. manufacturing non-competitive.'\n",
    "\n",
    "if keyword in tweet:\n",
    "    print(f'Found {keyword} in tweet.')\n",
    "else:\n",
    "    print(f'Could not find {keyword} in tweet')"
   ]
  },
  {
   "cell_type": "markdown",
   "metadata": {},
   "source": [
    "<b>Example 2</b>: Nested if/else statements. First, check if the string has 140 or fewer characters (i.e., consistent with Twitter limits). If this is true, check whether our Trump tweet includes the phrase \"global warming.\""
   ]
  },
  {
   "cell_type": "code",
   "execution_count": 48,
   "metadata": {},
   "outputs": [
    {
     "name": "stdout",
     "output_type": "stream",
     "text": [
      "Found global warming in tweet\n"
     ]
    }
   ],
   "source": [
    "# Initialize our program\n",
    "keyword = 'global warming'\n",
    "tweet = 'The concept of global warming was created by and for the Chinese in order to make U.S. manufacturing non-competitive.'\n",
    "\n",
    "if len(tweet) <= 140:\n",
    "    if keyword in tweet:\n",
    "        print(f'Found {keyword} in tweet')\n",
    "    else:\n",
    "        print(f'Could not find {keyword} in tweet')\n",
    "else:\n",
    "    print('Not a tweet!')"
   ]
  },
  {
   "cell_type": "markdown",
   "metadata": {},
   "source": [
    "### The `for` loop\n",
    "\n",
    "We often want to make repeated calculations and this is where the idea of a \"loop\" comes in. Let's start by taking a look at a `for` loop, which allows you to <i>iterate over a sequence of objects</i>."
   ]
  },
  {
   "cell_type": "code",
   "execution_count": 52,
   "metadata": {},
   "outputs": [
    {
     "name": "stdout",
     "output_type": "stream",
     "text": [
      "the\n",
      "concept\n",
      "of\n",
      "global\n",
      "warming\n",
      "was\n",
      "created\n",
      "by\n",
      "and\n",
      "for\n",
      "the\n",
      "chinese\n",
      "in\n",
      "order\n",
      "to\n",
      "make\n",
      "u.s.\n",
      "manufacturing\n",
      "non-competitive.\n"
     ]
    }
   ],
   "source": [
    "# Split (or tokenize) the Trump tweet into words\n",
    "tweet = 'The concept of global warming was created by and for the Chinese in order to make U.S. manufacturing non-competitive.'\n",
    "words = tweet.split(' ')\n",
    "\n",
    "# Iterate over the sequence of words and print\n",
    "for word in words:\n",
    "    print(word.lower())"
   ]
  },
  {
   "cell_type": "code",
   "execution_count": 51,
   "metadata": {},
   "outputs": [
    {
     "data": {
      "text/plain": [
       "117"
      ]
     },
     "execution_count": 51,
     "metadata": {},
     "output_type": "execute_result"
    }
   ],
   "source": [
    "len(tweet)"
   ]
  },
  {
   "cell_type": "markdown",
   "metadata": {},
   "source": [
    "The variable \"word\" holds each object in the sequence, one at a time. Note that you can name this anything you want (e.g., 'travis' or 'token' or whatever)."
   ]
  },
  {
   "cell_type": "code",
   "execution_count": 53,
   "metadata": {},
   "outputs": [
    {
     "name": "stdout",
     "output_type": "stream",
     "text": [
      "the\n",
      "concept\n",
      "of\n",
      "global\n",
      "warming\n",
      "was\n",
      "created\n",
      "by\n",
      "and\n",
      "for\n",
      "the\n",
      "chinese\n",
      "in\n",
      "order\n",
      "to\n",
      "make\n",
      "u.s.\n",
      "manufacturing\n",
      "non-competitive.\n"
     ]
    }
   ],
   "source": [
    "for trav in words:\n",
    "    print(trav.lower())"
   ]
  },
  {
   "cell_type": "markdown",
   "metadata": {},
   "source": [
    "As another example, say that we wanted to iterate over the numbers 0 to 9. How can we do this in Python?"
   ]
  },
  {
   "cell_type": "code",
   "execution_count": 58,
   "metadata": {
    "scrolled": true
   },
   "outputs": [
    {
     "name": "stdout",
     "output_type": "stream",
     "text": [
      "The\n",
      "concept\n",
      "of\n",
      "global\n",
      "warming\n",
      "was\n",
      "created\n",
      "by\n",
      "and\n",
      "for\n",
      "the\n",
      "Chinese\n",
      "in\n",
      "order\n",
      "to\n",
      "make\n",
      "U.S.\n",
      "manufacturing\n",
      "non-competitive.\n"
     ]
    }
   ],
   "source": [
    "# The xrange() function creates the \"sequence of objects\" to iterate over. \n",
    "# By default, xrange() iterates from 0 in increments of 1.\n",
    "tweet = 'The concept of global warming was created by and for the Chinese in order to make U.S. manufacturing non-competitive.'\n",
    "words = tweet.split(' ')\n",
    "\n",
    "for i in range(len(words)):\n",
    "    print(i, words[i])"
   ]
  },
  {
   "cell_type": "code",
   "execution_count": 54,
   "metadata": {},
   "outputs": [
    {
     "data": {
      "text/plain": [
       "range(0, 10)"
      ]
     },
     "execution_count": 54,
     "metadata": {},
     "output_type": "execute_result"
    }
   ],
   "source": [
    "range(10)"
   ]
  },
  {
   "cell_type": "markdown",
   "metadata": {},
   "source": [
    "Iterating over lists of objects (such as our words above) or numbers is a common task. Sometimes you want to iterate over a list of objects AND keep a counter to track here you are in the list. This is where the `enumerate` function comes in handy.\n",
    "\n",
    "<b>Example 3</b>: The `enumerate` function. Print the first 5 words in our Trump tweet."
   ]
  },
  {
   "cell_type": "code",
   "execution_count": null,
   "metadata": {},
   "outputs": [],
   "source": [
    "tweet = 'The concept of global warming was created by and for the Chinese in order to make U.S. manufacturing non-competitive.'\n",
    "words = tweet.split(' ')\n",
    "\n",
    "for i, word in enumerate(words):\n",
    "    print(i, word, 'trump')"
   ]
  },
  {
   "cell_type": "markdown",
   "metadata": {},
   "source": [
    "We can also get the same answer without the `enumerate` function by instead `xrange` and iterating over the \"words\" list:"
   ]
  },
  {
   "cell_type": "code",
   "execution_count": 59,
   "metadata": {},
   "outputs": [
    {
     "name": "stdout",
     "output_type": "stream",
     "text": [
      "The\n",
      "concept\n",
      "of\n",
      "global\n",
      "warming\n"
     ]
    }
   ],
   "source": [
    "for i, word in enumerate(words):\n",
    "    if i < 5:\n",
    "        print(word)\n",
    "    else:\n",
    "        break"
   ]
  },
  {
   "cell_type": "markdown",
   "metadata": {},
   "source": [
    "Need to explain break"
   ]
  },
  {
   "cell_type": "markdown",
   "metadata": {},
   "source": [
    "### The `while` loop\n",
    "\n",
    "Whenever possible, it is good to use a `for` loop to iterate over sequences. However, there are times when you do not know the length of the sequence you are iterating over ahead of time. This is when a `while` loop useful. Let's revist <b>Example 3</b>, but this time using a `while` loop."
   ]
  },
  {
   "cell_type": "code",
   "execution_count": 61,
   "metadata": {},
   "outputs": [
    {
     "name": "stdout",
     "output_type": "stream",
     "text": [
      "The\n",
      "concept\n",
      "of\n",
      "global\n",
      "warming\n",
      "was\n",
      "created\n",
      "by\n",
      "and\n",
      "for\n",
      "the\n",
      "Chinese\n",
      "in\n",
      "order\n",
      "to\n",
      "make\n",
      "U.S.\n",
      "manufacturing\n",
      "non-competitive.\n"
     ]
    }
   ],
   "source": [
    "# We need to initialize a counter to hold our iterations\n",
    "i = 0\n",
    "\n",
    "while i < len(words):\n",
    "    print(words[i])\n",
    "    # Need to update the counter. Otherwise, we get trapped in an\n",
    "    # \"infinite loop\"!\n",
    "    i += 1"
   ]
  },
  {
   "cell_type": "markdown",
   "metadata": {},
   "source": [
    "## Exceptions\n",
    "\n",
    "Sometimes we need to catch errors before they happen. We do so using ``try`` and ``except`` in Python (see <a href=\"https://python.swaroopch.com/exceptions.html\"><i>Byte of Python</i> on Excpections</a> for more information). For instance, consider the following ``while`` loop:"
   ]
  },
  {
   "cell_type": "code",
   "execution_count": 62,
   "metadata": {},
   "outputs": [
    {
     "name": "stdout",
     "output_type": "stream",
     "text": [
      "The\n",
      "concept\n",
      "of\n",
      "global\n",
      "warming\n",
      "was\n",
      "created\n",
      "by\n",
      "and\n",
      "for\n",
      "the\n",
      "Chinese\n",
      "in\n",
      "order\n",
      "to\n",
      "make\n",
      "U.S.\n",
      "manufacturing\n",
      "non-competitive.\n"
     ]
    },
    {
     "ename": "IndexError",
     "evalue": "list index out of range",
     "output_type": "error",
     "traceback": [
      "\u001b[0;31m---------------------------------------------------------------------------\u001b[0m",
      "\u001b[0;31mIndexError\u001b[0m                                Traceback (most recent call last)",
      "\u001b[0;32m<ipython-input-62-1af3223d5f40>\u001b[0m in \u001b[0;36m<module>\u001b[0;34m\u001b[0m\n\u001b[1;32m      4\u001b[0m \u001b[0;31m# This is called an infinite loop -- be careful!\u001b[0m\u001b[0;34m\u001b[0m\u001b[0;34m\u001b[0m\u001b[0;34m\u001b[0m\u001b[0m\n\u001b[1;32m      5\u001b[0m \u001b[0;32mwhile\u001b[0m \u001b[0;32mTrue\u001b[0m\u001b[0;34m:\u001b[0m\u001b[0;34m\u001b[0m\u001b[0;34m\u001b[0m\u001b[0m\n\u001b[0;32m----> 6\u001b[0;31m     \u001b[0mprint\u001b[0m\u001b[0;34m(\u001b[0m\u001b[0mwords\u001b[0m\u001b[0;34m[\u001b[0m\u001b[0mi\u001b[0m\u001b[0;34m]\u001b[0m\u001b[0;34m)\u001b[0m\u001b[0;34m\u001b[0m\u001b[0;34m\u001b[0m\u001b[0m\n\u001b[0m\u001b[1;32m      7\u001b[0m     \u001b[0mi\u001b[0m \u001b[0;34m+=\u001b[0m \u001b[0;36m1\u001b[0m\u001b[0;34m\u001b[0m\u001b[0;34m\u001b[0m\u001b[0m\n",
      "\u001b[0;31mIndexError\u001b[0m: list index out of range"
     ]
    }
   ],
   "source": [
    "# Initialize counter\n",
    "i = 0\n",
    "\n",
    "# This is called an infinite loop -- be careful!\n",
    "while True:\n",
    "    print(words[i])\n",
    "    i += 1"
   ]
  },
  {
   "cell_type": "markdown",
   "metadata": {},
   "source": [
    "Once we run out of words, the code breaks -- it errors out with a ``IndexError``. If we ran into this error in one of our programs, the program would stop executing. Instead, we can \"catch\" the error, using a ``try`` and ``except`` sequence:"
   ]
  },
  {
   "cell_type": "code",
   "execution_count": 63,
   "metadata": {},
   "outputs": [
    {
     "name": "stdout",
     "output_type": "stream",
     "text": [
      "The\n",
      "concept\n",
      "of\n",
      "global\n",
      "warming\n",
      "was\n",
      "created\n",
      "by\n",
      "and\n",
      "for\n",
      "the\n",
      "Chinese\n",
      "in\n",
      "order\n",
      "to\n",
      "make\n",
      "U.S.\n",
      "manufacturing\n",
      "non-competitive.\n",
      "We ran out of words!\n"
     ]
    }
   ],
   "source": [
    "# Initialize counter\n",
    "i = 0\n",
    "\n",
    "# This is called an infinite loop -- be careful!\n",
    "while True:\n",
    "    # Try to print a word\n",
    "    try:\n",
    "        print(words[i])\n",
    "        i += 1\n",
    "    # Raise an exepction if the code errors out\n",
    "    except:\n",
    "        print('We ran out of words!')\n",
    "        break"
   ]
  },
  {
   "cell_type": "markdown",
   "metadata": {},
   "source": [
    "This code, instead, catches the error -- our program could continue doing other things if we wanted. There are times when catching errors can be super helpful."
   ]
  },
  {
   "cell_type": "markdown",
   "metadata": {},
   "source": [
    "## Functions\n",
    "\n",
    "Often when writing programs and doing analysis, we want to reuse pieces (or blocks) of code. We do so by declaring a function using the `def` statement. We have already used several of Python's built-in functions earlier in this tutoral. For instance, we \"called\" the `len` function to get the number of characters in a string. Python, however, makes it super easy to define your own functions.\n",
    "\n",
    "<b>Example 4</b>: Looking up words in a tweet, any tweet. We can extend our code in <b>Example 1</b> to make it reusable for any tweet by defining a function."
   ]
  },
  {
   "cell_type": "code",
   "execution_count": 1,
   "metadata": {},
   "outputs": [],
   "source": [
    "tweet = 'The concept of global warming was created by and for the Chinese in order to make U.S. manufacturing non-competitive.'\n",
    "\n",
    "def lookup(tweet, keyword):\n",
    "    '''This function takes a tweet and keyword, and returns True if the \n",
    "       keyword is present and False otherwise '''\n",
    "    \n",
    "    #print('Is %s found in the tweet?' % keyword)\n",
    "    \n",
    "    if keyword in tweet:\n",
    "        return True\n",
    "    else:\n",
    "        return False"
   ]
  },
  {
   "cell_type": "code",
   "execution_count": 67,
   "metadata": {},
   "outputs": [
    {
     "name": "stdout",
     "output_type": "stream",
     "text": [
      "True\n"
     ]
    }
   ],
   "source": [
    "print(lookup(tweet, 'global warming'))"
   ]
  },
  {
   "cell_type": "code",
   "execution_count": 68,
   "metadata": {},
   "outputs": [
    {
     "data": {
      "text/plain": [
       "False"
      ]
     },
     "execution_count": 68,
     "metadata": {},
     "output_type": "execute_result"
    }
   ],
   "source": [
    "lookup(tweet, 'covfefe')"
   ]
  },
  {
   "cell_type": "markdown",
   "metadata": {},
   "source": [
    "Our function above illustrates features that most functions have:\n",
    "\n",
    "* <b> Parameters </b>: `keyword` and `tweet` are parameters in our function (i.e., information sent to the function that it needs to run).\n",
    "* <b> Return value(s) </b>: Most, but not all, functions return a value (or set of values).\n",
    "* <b> Doc string </b>: String explaining what the function does (i.e., \"documenting\" the function), which appears just under the function definition.\n",
    "\n",
    "Doc strings are helpful, as they allow a user (including yourself!) to get help on what the function does:"
   ]
  },
  {
   "cell_type": "code",
   "execution_count": 69,
   "metadata": {},
   "outputs": [
    {
     "name": "stdout",
     "output_type": "stream",
     "text": [
      "Help on function lookup in module __main__:\n",
      "\n",
      "lookup(tweet, keyword)\n",
      "    This function takes a tweet and keyword, and returns True if the \n",
      "    keyword is present and False otherwise\n",
      "\n"
     ]
    }
   ],
   "source": [
    "help(lookup)"
   ]
  },
  {
   "cell_type": "markdown",
   "metadata": {},
   "source": [
    "We can also specify <b>default values for parameters</b>. For instance, we can add the following:"
   ]
  },
  {
   "cell_type": "code",
   "execution_count": 70,
   "metadata": {},
   "outputs": [],
   "source": [
    "def lookup(tweet, keyword = 'covfefe'):\n",
    "    '''This function takes a tweet and keyword, and returns True if the \n",
    "       keyword is present and False otherwise '''\n",
    "    \n",
    "    print('Is %s found in the tweet?' % keyword)\n",
    "    \n",
    "    if keyword in tweet:\n",
    "        return True\n",
    "    else:\n",
    "        return False"
   ]
  },
  {
   "cell_type": "code",
   "execution_count": 71,
   "metadata": {},
   "outputs": [
    {
     "name": "stdout",
     "output_type": "stream",
     "text": [
      "Is covfefe found in the tweet?\n"
     ]
    },
    {
     "data": {
      "text/plain": [
       "False"
      ]
     },
     "execution_count": 71,
     "metadata": {},
     "output_type": "execute_result"
    }
   ],
   "source": [
    "lookup(tweet)"
   ]
  },
  {
   "cell_type": "code",
   "execution_count": 72,
   "metadata": {},
   "outputs": [
    {
     "name": "stdout",
     "output_type": "stream",
     "text": [
      "Is global warming found in the tweet?\n"
     ]
    },
    {
     "data": {
      "text/plain": [
       "True"
      ]
     },
     "execution_count": 72,
     "metadata": {},
     "output_type": "execute_result"
    }
   ],
   "source": [
    "lookup(tweet, keyword='global warming')"
   ]
  },
  {
   "cell_type": "markdown",
   "metadata": {},
   "source": [
    "Your functions can get quite complex and you can even inlude an <a href=https://www.geeksforgeeks.org/args-kwargs-python/>arbitrary number of arguments</a>. However, we are not going to worry about the complexities at this point. And don't worry, we will be using functions throughout this course, so you will get many (many!) opportunities to practice their use (for more on functions, click <a href = \"https://python.swaroopch.com/functions.html\">here</a>)."
   ]
  },
  {
   "cell_type": "markdown",
   "metadata": {},
   "source": [
    "## Data structures\n",
    "\n",
    "Python offers a number of alternatives (or \"structures\") for storing data. There are four built-in data structures: `list`, `dict`, `tuple`, and `set`. We will look at each of these in turn.\n",
    "\n",
    "### Lists\n",
    "\n",
    "A list is just that -- a list of objects. These \"objects\" can be numbers, strings, and even other data structures. For instance, when we \"split\" the Trump tweet above into seperate words, Python returnd a list:"
   ]
  },
  {
   "cell_type": "code",
   "execution_count": 2,
   "metadata": {},
   "outputs": [
    {
     "name": "stdout",
     "output_type": "stream",
     "text": [
      "['The', 'concept', 'of', 'global', 'warming', 'was', 'created', 'by', 'and', 'for', 'the', 'Chinese', 'in', 'order', 'to', 'make', 'U.S.', 'manufacturing', 'non-competitive.']\n",
      "19\n"
     ]
    }
   ],
   "source": [
    "words = tweet.split(' ')\n",
    "print(words)\n",
    "print(len(words))"
   ]
  },
  {
   "cell_type": "markdown",
   "metadata": {},
   "source": [
    "This list has 19 elements and we can lookup a particular element in the list using the appropriate index. Once again, note that Python indexes lists starting at 0, and moves right to left. So if we wanted to lookup the 5th element in this list, we would type:"
   ]
  },
  {
   "cell_type": "code",
   "execution_count": null,
   "metadata": {},
   "outputs": [],
   "source": [
    "print(words[4])"
   ]
  },
  {
   "cell_type": "markdown",
   "metadata": {},
   "source": [
    "We can iterate over a list in the opposite direction by using negative indices. So to get the last and second to last word in the list, we could type:"
   ]
  },
  {
   "cell_type": "code",
   "execution_count": 3,
   "metadata": {
    "scrolled": false
   },
   "outputs": [
    {
     "name": "stdout",
     "output_type": "stream",
     "text": [
      "non-competitive.\n",
      "manufacturing\n"
     ]
    }
   ],
   "source": [
    "# Last word\n",
    "print(words[-1])\n",
    "\n",
    "# Second to last word\n",
    "print(words[-2])"
   ]
  },
  {
   "cell_type": "markdown",
   "metadata": {},
   "source": [
    "We can also `append` objects to the end of a list or `insert` objects into a list using an index:"
   ]
  },
  {
   "cell_type": "code",
   "execution_count": 4,
   "metadata": {},
   "outputs": [
    {
     "name": "stdout",
     "output_type": "stream",
     "text": [
      "['The', 'concept', 'of', 'global', 'warming', 'was', 'created', 'by', 'and', 'for', 'the', 'Chinese', 'in', 'order', 'to', 'make', 'U.S.', 'manufacturing', 'non-competitive.', 'crazy']\n"
     ]
    }
   ],
   "source": [
    "# Add an additional word to the end of our list\n",
    "words.append('crazy')\n",
    "print(words)"
   ]
  },
  {
   "cell_type": "markdown",
   "metadata": {},
   "source": [
    "or `insert` an object based on an index:"
   ]
  },
  {
   "cell_type": "code",
   "execution_count": 5,
   "metadata": {},
   "outputs": [
    {
     "name": "stdout",
     "output_type": "stream",
     "text": [
      "['trump', 'The', 'concept', 'of', 'global', 'warming', 'was', 'created', 'by', 'and', 'for', 'the', 'Chinese', 'in', 'order', 'to', 'make', 'U.S.', 'manufacturing', 'non-competitive.', 'crazy']\n"
     ]
    }
   ],
   "source": [
    "# Add a word to the begining of the list\n",
    "words.insert(0, 'trump')\n",
    "print(words)"
   ]
  },
  {
   "cell_type": "markdown",
   "metadata": {},
   "source": [
    "Lists are super flexable and store just about anything. For example, we will often need to work with \"lists of lists\". "
   ]
  },
  {
   "cell_type": "code",
   "execution_count": 6,
   "metadata": {},
   "outputs": [
    {
     "name": "stdout",
     "output_type": "stream",
     "text": [
      "[[\"Let's\", 'continue', 'to', 'destroy', 'the', 'competitiveness', 'of', 'our', 'factories', '&', 'manufacturing', 'so', 'we', 'can', 'fight', 'mythical', 'global', 'warming.', 'China', 'is', 'so', 'happy!'], ['The', 'concept', 'of', 'global', 'warming', 'was', 'created', 'by', 'and', 'for', 'the', 'Chinese', 'in', 'order', 'to', 'make', 'U.S.', 'manufacturing', 'non-competitive.']]\n"
     ]
    }
   ],
   "source": [
    "# Define a list to hold two Trump tweets\n",
    "tweets = [\"Let's continue to destroy the competitiveness of our factories & manufacturing so we can fight mythical global warming. China is so happy!\",\n",
    "          \"The concept of global warming was created by and for the Chinese in order to make U.S. manufacturing non-competitive.\"]\n",
    "\n",
    "# Loop over the \"tweets\" and tokenize\n",
    "tokenized_tweets = []\n",
    "for tweet in tweets:\n",
    "    tokenized_tweets.append(tweet.split(' '))\n",
    "\n",
    "print(tokenized_tweets)"
   ]
  },
  {
   "cell_type": "markdown",
   "metadata": {},
   "source": [
    "We can then access an individual element within our nested lists as follows:"
   ]
  },
  {
   "cell_type": "code",
   "execution_count": null,
   "metadata": {},
   "outputs": [],
   "source": [
    "# Get word 12 in tweet 2\n",
    "#print(tokenized_tweets[1][11])\n",
    "tokenized_tweets[0][11]"
   ]
  },
  {
   "cell_type": "markdown",
   "metadata": {},
   "source": [
    "### List comprehension\n",
    "\n",
    "While we are on the subject of lists, it is good to introduce the idea of \"list comprehesnion\" in Python. I think of list comprehension as a special type of loop. This procedure takes a list, loops over it (typically modifying it in some way), and then returns a new list. The advantage of using list comprehension rather than, say, a `for loop` is that it often lead to efficient, easy to read code. Let's take a look."
   ]
  },
  {
   "cell_type": "code",
   "execution_count": 7,
   "metadata": {},
   "outputs": [
    {
     "name": "stdout",
     "output_type": "stream",
     "text": [
      "[0, 1, 2, 3, 4, 5, 6, 7, 8, 9]\n"
     ]
    }
   ],
   "source": [
    "nums = [i for i in range(10)]\n",
    "print(nums)"
   ]
  },
  {
   "cell_type": "markdown",
   "metadata": {},
   "source": [
    "We could also do the same thing using a loop, but it's a bit long-winded:"
   ]
  },
  {
   "cell_type": "code",
   "execution_count": 8,
   "metadata": {},
   "outputs": [
    {
     "name": "stdout",
     "output_type": "stream",
     "text": [
      "[0, 1, 2, 3, 4, 5, 6, 7, 8, 9]\n"
     ]
    }
   ],
   "source": [
    "nums = []\n",
    "for i in range(10):\n",
    "    nums.append(i)\n",
    "\n",
    "print(nums)"
   ]
  },
  {
   "cell_type": "markdown",
   "metadata": {},
   "source": [
    "Or take our tweet example above:"
   ]
  },
  {
   "cell_type": "code",
   "execution_count": 9,
   "metadata": {},
   "outputs": [
    {
     "name": "stdout",
     "output_type": "stream",
     "text": [
      "[['The', 'concept', 'of', 'global', 'warming', 'was', 'created', 'by', 'and', 'for', 'the', 'Chinese', 'in', 'order', 'to', 'make', 'U.S.', 'manufacturing', 'non-competitive.'], ['This', 'is', 'also', 'a', 'tweet.']]\n"
     ]
    }
   ],
   "source": [
    "tweets = ['The concept of global warming was created by and for the Chinese in order to make U.S. manufacturing non-competitive.',\n",
    "          'This is also a tweet.']\n",
    "tokenized_tweets = [tweet.split(' ') for tweet in tweets]\n",
    "print(tokenized_tweets)"
   ]
  },
  {
   "cell_type": "markdown",
   "metadata": {},
   "source": [
    "We will see many more examples of using list comprehension in Python."
   ]
  },
  {
   "cell_type": "markdown",
   "metadata": {},
   "source": [
    "### Dictionaries\n",
    "\n",
    "In addition to lists, dictionaries are one of the most often used data structures in Python programs. As aptly described in <i>Byte of Python</i>, \n",
    "\n",
    "> \"A dictionary is like an address-book where you can find the address or contact details of a person by knowing only his/her name i.e. we associate <i>keys</i> (name) with <i>values</i> (details). Note that the key must be unique just like you cannot find out the correct information if you have two persons with the exact same name.\"\n",
    "\n",
    "How do dictionaries work in practice? Let's go back to the two tweets from Donald Trump above. Say that we wanted to store the `tweets` list along with a list of tweet IDs. We could do so using a dictionary as follows:"
   ]
  },
  {
   "cell_type": "code",
   "execution_count": 11,
   "metadata": {},
   "outputs": [
    {
     "name": "stdout",
     "output_type": "stream",
     "text": [
      "{'tweets': ['The concept of global warming was created by and for the Chinese in order to make U.S. manufacturing non-competitive.', 'This is also a tweet.'], 'ids': [1, 2]}\n"
     ]
    }
   ],
   "source": [
    "# Define a list of tweet ids\n",
    "ids = [1, 2]\n",
    "\n",
    "# Combine the ids and tweets into a dictionary\n",
    "tweets_dict = {'tweets': tweets, 'ids': ids}\n",
    "\n",
    "print(tweets_dict)"
   ]
  },
  {
   "cell_type": "markdown",
   "metadata": {},
   "source": [
    "And we can now call up each list using the `tweets_dict` and the relevant key."
   ]
  },
  {
   "cell_type": "code",
   "execution_count": 12,
   "metadata": {},
   "outputs": [
    {
     "name": "stdout",
     "output_type": "stream",
     "text": [
      "['The concept of global warming was created by and for the Chinese in order to make U.S. manufacturing non-competitive.', 'This is also a tweet.']\n"
     ]
    }
   ],
   "source": [
    "# Grab the ids to view\n",
    "print(tweets_dict['tweets'])"
   ]
  },
  {
   "cell_type": "markdown",
   "metadata": {},
   "source": [
    "As with lists, dictionaries are super flexable. I often store data as a list of dictionaries as follows:"
   ]
  },
  {
   "cell_type": "code",
   "execution_count": 13,
   "metadata": {},
   "outputs": [],
   "source": [
    "tweets = [{'id': 1, \n",
    "           'tweet': \"Let's continue to destroy the competitiveness of our factories & manufacturing so we can fight mythical global warming. China is so happy!\"},\n",
    "          {'id': 2,\n",
    "           'tweet': \"The concept of global warming was created by and for the Chinese in order to make U.S. manufacturing non-competitive.\"}\n",
    "         ]\n"
   ]
  },
  {
   "cell_type": "markdown",
   "metadata": {},
   "source": [
    "This allows you to call up a particular tweet using the \"tweet\" key, instead of having to remember which index in a list holds the tweet element."
   ]
  },
  {
   "cell_type": "code",
   "execution_count": 15,
   "metadata": {},
   "outputs": [
    {
     "name": "stdout",
     "output_type": "stream",
     "text": [
      "1\n"
     ]
    }
   ],
   "source": [
    "print(tweets[0]['id'])"
   ]
  },
  {
   "cell_type": "markdown",
   "metadata": {},
   "source": [
    "### Tuples\n",
    "\n",
    "I tend to use tuples less often then lists and dictionaries, but they are still quite useful in certain circumstances. You can think of a tuple as a stripped down version of a list, with the added feature that they are <a href=\"https://medium.com/@meghamohan/mutable-and-immutable-side-of-python-c2145cf72747\">immutable</a> (don't worry about this concept too much at this point). Basically, we can use tuples when we really, really want to objects to remain together and we don't want them to be changed.\n",
    "\n",
    "You define a tuple in a very similar way to a list:"
   ]
  },
  {
   "cell_type": "code",
   "execution_count": 16,
   "metadata": {},
   "outputs": [
    {
     "name": "stdout",
     "output_type": "stream",
     "text": [
      "(1, \"Let's continue to destroy the competitiveness of our factories & manufacturing so we can fight mythical global warming. China is so happy!\")\n"
     ]
    }
   ],
   "source": [
    "tweet = (1, \"Let's continue to destroy the competitiveness of our factories & manufacturing so we can fight mythical global warming. China is so happy!\")\n",
    "print(tweet)"
   ]
  },
  {
   "cell_type": "markdown",
   "metadata": {},
   "source": [
    "We can still iterate over this tuple and call individual elments based on their index; however, their is no `append` or `insert` method for tuples. They are \"hard to change\" by design!"
   ]
  },
  {
   "cell_type": "markdown",
   "metadata": {},
   "source": [
    "### Sets\n",
    "\n",
    "A set is useful when you want a <i>unique</i>, unordered collection of Python objects. For example,"
   ]
  },
  {
   "cell_type": "code",
   "execution_count": 23,
   "metadata": {},
   "outputs": [
    {
     "name": "stdout",
     "output_type": "stream",
     "text": [
      "['travis', 'dreolin', 'riley', 'ranu']\n"
     ]
    }
   ],
   "source": [
    "names = ['travis', 'travis', 'travis', 'riley', 'riley', 'dreolin']\n",
    "names_set = list(set(names))\n",
    "names_set.append('ranu')\n",
    "print(names_set)"
   ]
  },
  {
   "cell_type": "markdown",
   "metadata": {},
   "source": [
    "Where the use of sets really helps us is when checking for membership in a collection of objects. For instance, if I wanted to know whether 'travis' was includded in this list of names, I could use the membership operator above on the list of names directly:"
   ]
  },
  {
   "cell_type": "code",
   "execution_count": null,
   "metadata": {},
   "outputs": [],
   "source": [
    "print('travis' in names)"
   ]
  },
  {
   "cell_type": "markdown",
   "metadata": {},
   "source": [
    "However, when the list of names is large or you need to check for membership many times, it becomes much more efficient to do the following:"
   ]
  },
  {
   "cell_type": "code",
   "execution_count": null,
   "metadata": {},
   "outputs": [],
   "source": [
    "print('travis' in set(names))"
   ]
  },
  {
   "cell_type": "markdown",
   "metadata": {},
   "source": [
    "## Input and output \n",
    "\n",
    "Most of your scripts and programs will need to read and write data. Let's jump right in with an example of reading and writing a CSV file in Python. After learning how to write a CSV formatted file, we will look at some other useful file formats.\n",
    "\n",
    "<b>Example 5</b>: Reading, processing, and then writing data. Open the trump_tweets_2017.csv file, flag tweets about \"fake news\", and write these tweets to disk.\n",
    "\n",
    "We need to start by downloading the trump_tweets_2017.csv data and store it a location that you can find. I downloaded it to the following folder on my machine: /Users/tcoan/git_repos/notebooks/data. If you want to avoid typing the entire (absolute) path each time you read and write data, you can set the working directory using the `os` module (similar to `setwd()` in **R**).\n"
   ]
  },
  {
   "cell_type": "code",
   "execution_count": 25,
   "metadata": {},
   "outputs": [],
   "source": [
    "import os\n",
    "os.chdir('/Users/tcoan/git_repos/notebooks')"
   ]
  },
  {
   "cell_type": "markdown",
   "metadata": {},
   "source": [
    "Next, we need to import the `csv` module and then use the module to read the tweet data."
   ]
  },
  {
   "cell_type": "code",
   "execution_count": 26,
   "metadata": {},
   "outputs": [],
   "source": [
    "# We need the csv module to read and write \n",
    "# CSVs in Python.\n",
    "import csv\n",
    "\n",
    "# First, we will do this the \"long\" way. Start by openning\n",
    "# a connection to a file on disk\n",
    "csvfile = open('data/trump_tweets_2017.csv', 'r')\n",
    "\n",
    "# Initialize a csv.reader() object, pointing to the file on\n",
    "# disk\n",
    "csvreader = csv.reader(csvfile)\n",
    "\n",
    "# Read the tweets\n",
    "tweets = [row for row in csvreader]\n",
    "\n",
    "# Close the connection.\n",
    "csvfile.close()"
   ]
  },
  {
   "cell_type": "code",
   "execution_count": 32,
   "metadata": {},
   "outputs": [],
   "source": [
    "with open('data/trump_tweets_2017.csv', 'r') as csvfile:\n",
    "        # Connect to file\n",
    "        csvreader = csv.reader(csvfile)\n",
    "        tweets = [row for row in csvreader]"
   ]
  },
  {
   "cell_type": "code",
   "execution_count": 33,
   "metadata": {},
   "outputs": [],
   "source": [
    "labels = tweets[0]\n",
    "tweets = tweets[1:]"
   ]
  },
  {
   "cell_type": "code",
   "execution_count": 34,
   "metadata": {},
   "outputs": [
    {
     "data": {
      "text/plain": [
       "['Twitter for iPhone',\n",
       " '9.47E+17',\n",
       " 'Jobs are kicking in and companies are coming back to the U.S. Unnecessary regulations and high taxes are being dramatically Cut, and it will only get better. MUCH MORE TO COME!',\n",
       " 'FALSE',\n",
       " '24332',\n",
       " '117013']"
      ]
     },
     "execution_count": 34,
     "metadata": {},
     "output_type": "execute_result"
    }
   ],
   "source": [
    "tweets[0]"
   ]
  },
  {
   "cell_type": "markdown",
   "metadata": {},
   "source": [
    "This is sort of a \"clunky\" way to read a file, however, as you need to remember to actually close the connection (and you probably should also use the `del` statment to delete the csvreader object). The preferred way to read (and write) data is using the `with()` function:"
   ]
  },
  {
   "cell_type": "code",
   "execution_count": 35,
   "metadata": {},
   "outputs": [],
   "source": [
    "# Read the file within the \"with\" structure\n",
    "def read_csv(path):\n",
    "    with open(path, 'r') as csvfile:\n",
    "        # Connect to file\n",
    "        csvreader = csv.reader(csvfile)\n",
    "\n",
    "        # Read the tweets\n",
    "        tweets = [row for row in csvreader]\n",
    "    return tweets"
   ]
  },
  {
   "cell_type": "code",
   "execution_count": null,
   "metadata": {},
   "outputs": [],
   "source": [
    "read_csv('data/trump_tweets_2017.csv')"
   ]
  },
  {
   "cell_type": "markdown",
   "metadata": {},
   "source": [
    "Using the `with()` function reads the tweets and then cleans up the (local) environment. Let's take a closer look at the \"tweets\" data:"
   ]
  },
  {
   "cell_type": "code",
   "execution_count": null,
   "metadata": {},
   "outputs": [],
   "source": [
    "# Is the first row a header?\n",
    "print(tweets[0])\n",
    "\n",
    "# Yes, it is. Let's save the headers for future reference\n",
    "# and then remove them from the data\n",
    "labels = tweets[0]\n",
    "tweets = tweets[1:]\n",
    "\n",
    "# Let's take a look at the first tweet\n",
    "print(tweets[0])\n",
    "\n",
    "# How many total tweets are we working with?\n",
    "print(len(tweets))"
   ]
  },
  {
   "cell_type": "markdown",
   "metadata": {},
   "source": [
    "So our our Trump tweets are loaded. The next step is to look for the keywords \"fake news\" in these tweets."
   ]
  },
  {
   "cell_type": "code",
   "execution_count": null,
   "metadata": {},
   "outputs": [],
   "source": [
    "# Let's save the fake news tweets in a\n",
    "# seperate list\n",
    "fake_news = []\n",
    "\n",
    "# Lookup fake news tweets\n",
    "for tweet in tweets:\n",
    "    # Standardize by converting to lowercase\n",
    "    if 'fake news' in tweet[2].lower():\n",
    "        fake_news.append(tweet)\n",
    "\n",
    "print('Found %s tweets about \"fake news\"' % len(fake_news))"
   ]
  },
  {
   "cell_type": "code",
   "execution_count": null,
   "metadata": {},
   "outputs": [],
   "source": [
    "fake_news[0]"
   ]
  },
  {
   "cell_type": "markdown",
   "metadata": {},
   "source": [
    "Lastly, let's write our \"fake news\" tweets to disk:"
   ]
  },
  {
   "cell_type": "code",
   "execution_count": null,
   "metadata": {},
   "outputs": [],
   "source": [
    "# Use the csv module to write a CSV file\n",
    "with open('data/fake_news_tweets.csv', 'w') as csvfile:\n",
    "    csvwriter = csv.writer(csvfile)\n",
    "    csvwriter.writerows(fake_news)"
   ]
  },
  {
   "cell_type": "markdown",
   "metadata": {},
   "source": [
    "### JSON formatted files\n",
    "\n",
    "Many APIs (e.g., the Twitter API) return JSON formatted files. <a href=\"https://en.wikipedia.org/wiki/JSON\">Wikipedia</a> describes JSON files as follows:\n",
    "\n",
    "> \"In computing, JavaScript Object Notation or JSON (/ˈdʒeɪsən/ JAY-sən) is an open-standard file format that uses human-readable text to transmit data objects consisting of attribute–value pairs and array data types (or any other serializable value). It is a very common data format used for asynchronous browser–server communication, including as a replacement for XML in some AJAX-style systems.\"\n",
    "\n",
    "The JSON file format looks a lot like a Python dictionary. For example,\n",
    "\n",
    "[\n",
    "   {\n",
    "      \"source\":\"Twitter for iPhone\",\n",
    "      \"text\":\"Jobs are kicking in and companies are coming back to the U.S. Unnecessary regulations and high taxes are being dramatically Cut, and it will only get better. MUCH MORE TO COME!,\n",
    "      \"created_at\":\"Sat Dec 30 22:42:09 +0000 2017\",\n",
    "      \"retweet_count\":24332,\n",
    "      \"favorite_count\":117013,\n",
    "      \"is_retweet\":false,\n",
    "      \"id_str\":\"947236393184628741\"\n",
    "   }\n",
    "]\n",
    "\n",
    "We load JSON files in Python using the ``json`` module. As an example, we can load the JSON version of the 2017 Trump Twitter data (again, stored on my system in /Users/tcoan/git_repos/notebooks/data):"
   ]
  },
  {
   "cell_type": "code",
   "execution_count": 41,
   "metadata": {},
   "outputs": [
    {
     "data": {
      "text/plain": [
       "{'source': 'Twitter for iPhone',\n",
       " 'text': 'Jobs are kicking in and companies are coming back to the U.S. Unnecessary regulations and high taxes are being dramatically Cut, and it will only get better. MUCH MORE TO COME!',\n",
       " 'created_at': 'Sat Dec 30 22:42:09 +0000 2017',\n",
       " 'retweet_count': 24332,\n",
       " 'favorite_count': 117013,\n",
       " 'is_retweet': False,\n",
       " 'id_str': '947236393184628741'}"
      ]
     },
     "execution_count": 41,
     "metadata": {},
     "output_type": "execute_result"
    }
   ],
   "source": [
    "import json\n",
    "\n",
    "# Read JSON formatted data\n",
    "with open('data/trump_tweets_2017.json', 'r', encoding='utf-8') as jfile:\n",
    "    jdata = json.load(jfile)\n",
    "\n",
    "jdata[0]"
   ]
  },
  {
   "cell_type": "code",
   "execution_count": 42,
   "metadata": {},
   "outputs": [
    {
     "data": {
      "text/plain": [
       "dict_keys(['source', 'text', 'created_at', 'retweet_count', 'favorite_count', 'is_retweet', 'id_str'])"
      ]
     },
     "execution_count": 42,
     "metadata": {},
     "output_type": "execute_result"
    }
   ],
   "source": [
    "jdata[0].keys()"
   ]
  },
  {
   "cell_type": "markdown",
   "metadata": {},
   "source": [
    "We write (or dump) JSON files in the usual way. When writing JSON, I like to use a handful of additional options to the `json.dump`:"
   ]
  },
  {
   "cell_type": "code",
   "execution_count": null,
   "metadata": {},
   "outputs": [],
   "source": [
    "with open('data/pretty.json', 'w') as jfile:\n",
    "    json.dump(jdata[0:10], jfile, indent=4, separators=(',', ': '), sort_keys=True)\n",
    "    # Add trailing newline for POSIX compatibility\n",
    "    jfile.write('\\n')"
   ]
  },
  {
   "cell_type": "markdown",
   "metadata": {},
   "source": [
    "### Pickle files\n",
    "\n",
    "The last file format that we will use are so-called \"pickle\" files. Here is how the <a href=\"https://docs.python.org/3/library/pickle.html\">Python docs describes pickling files</a>:\n",
    "\n",
    "> \"Pickling” is the process whereby a Python object hierarchy is converted into a byte stream, and “unpickling” is the inverse operation, whereby a byte stream (from a binary file or bytes-like object) is converted back into an object hierarchy. Pickling (and unpickling) is alternatively known as “serialization”, “marshalling,” or “flattening”; however, to avoid confusion, the terms used here are “pickling” and “unpickling.\"\n",
    "\n",
    "We read and write pickle files (surprise, surprise) using the `pickle` module. As an example, let's \"serialize\" our `jdata` file and write it to disk."
   ]
  },
  {
   "cell_type": "code",
   "execution_count": null,
   "metadata": {},
   "outputs": [],
   "source": [
    "import pickle\n",
    "\n",
    "with open('data/trump_tweets_2017.pkl', 'wb') as pfile:\n",
    "    pickle.dump(jdata, pfile)"
   ]
  },
  {
   "cell_type": "markdown",
   "metadata": {},
   "source": [
    "This creates a \"pickled\" file in the /home/tcoan directory. Pickle files are not human readable, but they are super useful because the preserve, exactly, the Python object that you are writing to disk. We can then, at a later point, load the same object back into Python for further analysis. For example, "
   ]
  },
  {
   "cell_type": "code",
   "execution_count": null,
   "metadata": {},
   "outputs": [],
   "source": [
    "tweets = pickle.load(open('data/trump_tweets_2017.pkl', 'rb'))"
   ]
  },
  {
   "cell_type": "code",
   "execution_count": null,
   "metadata": {},
   "outputs": [],
   "source": [
    "tweets == jdata"
   ]
  },
  {
   "cell_type": "markdown",
   "metadata": {},
   "source": [
    "## Pandas\n",
    "\n",
    "You can also use the `pandas` library to load the data. For example, this code will load our tweets CSV into a new data type unique to `pandas`: the \"data frame\". "
   ]
  },
  {
   "cell_type": "code",
   "execution_count": 43,
   "metadata": {},
   "outputs": [],
   "source": [
    "import pandas as pd\n",
    "trump_df = pd.read_json('data/trump_tweets_2017.json')"
   ]
  },
  {
   "cell_type": "markdown",
   "metadata": {},
   "source": [
    "Like in **R**, we can look at the first couple of row by using the `head` method:"
   ]
  },
  {
   "cell_type": "code",
   "execution_count": 44,
   "metadata": {},
   "outputs": [
    {
     "data": {
      "text/html": [
       "<div>\n",
       "<style scoped>\n",
       "    .dataframe tbody tr th:only-of-type {\n",
       "        vertical-align: middle;\n",
       "    }\n",
       "\n",
       "    .dataframe tbody tr th {\n",
       "        vertical-align: top;\n",
       "    }\n",
       "\n",
       "    .dataframe thead th {\n",
       "        text-align: right;\n",
       "    }\n",
       "</style>\n",
       "<table border=\"1\" class=\"dataframe\">\n",
       "  <thead>\n",
       "    <tr style=\"text-align: right;\">\n",
       "      <th></th>\n",
       "      <th>source</th>\n",
       "      <th>text</th>\n",
       "      <th>created_at</th>\n",
       "      <th>retweet_count</th>\n",
       "      <th>favorite_count</th>\n",
       "      <th>is_retweet</th>\n",
       "      <th>id_str</th>\n",
       "    </tr>\n",
       "  </thead>\n",
       "  <tbody>\n",
       "    <tr>\n",
       "      <th>0</th>\n",
       "      <td>Twitter for iPhone</td>\n",
       "      <td>Jobs are kicking in and companies are coming b...</td>\n",
       "      <td>2017-12-30 22:42:09+00:00</td>\n",
       "      <td>24332</td>\n",
       "      <td>117013</td>\n",
       "      <td>False</td>\n",
       "      <td>947236393184628736</td>\n",
       "    </tr>\n",
       "    <tr>\n",
       "      <th>1</th>\n",
       "      <td>Twitter for iPhone</td>\n",
       "      <td>I use Social Media not because I like to, but ...</td>\n",
       "      <td>2017-12-30 22:36:41+00:00</td>\n",
       "      <td>50342</td>\n",
       "      <td>195754</td>\n",
       "      <td>False</td>\n",
       "      <td>947235015343202304</td>\n",
       "    </tr>\n",
       "    <tr>\n",
       "      <th>2</th>\n",
       "      <td>Twitter for iPhone</td>\n",
       "      <td>On Taxes: “This is the biggest corporate rate ...</td>\n",
       "      <td>2017-12-30 21:12:45+00:00</td>\n",
       "      <td>16703</td>\n",
       "      <td>73325</td>\n",
       "      <td>False</td>\n",
       "      <td>947213895286054912</td>\n",
       "    </tr>\n",
       "    <tr>\n",
       "      <th>3</th>\n",
       "      <td>Twitter for iPhone</td>\n",
       "      <td>Oppressive regimes cannot endure forever, and ...</td>\n",
       "      <td>2017-12-30 19:02:53+00:00</td>\n",
       "      <td>23270</td>\n",
       "      <td>78932</td>\n",
       "      <td>False</td>\n",
       "      <td>947181212468203520</td>\n",
       "    </tr>\n",
       "    <tr>\n",
       "      <th>4</th>\n",
       "      <td>Twitter for iPhone</td>\n",
       "      <td>The entire world understands that the good peo...</td>\n",
       "      <td>2017-12-30 19:00:54+00:00</td>\n",
       "      <td>23532</td>\n",
       "      <td>77986</td>\n",
       "      <td>False</td>\n",
       "      <td>947180713236934656</td>\n",
       "    </tr>\n",
       "  </tbody>\n",
       "</table>\n",
       "</div>"
      ],
      "text/plain": [
       "               source                                               text  \\\n",
       "0  Twitter for iPhone  Jobs are kicking in and companies are coming b...   \n",
       "1  Twitter for iPhone  I use Social Media not because I like to, but ...   \n",
       "2  Twitter for iPhone  On Taxes: “This is the biggest corporate rate ...   \n",
       "3  Twitter for iPhone  Oppressive regimes cannot endure forever, and ...   \n",
       "4  Twitter for iPhone  The entire world understands that the good peo...   \n",
       "\n",
       "                 created_at  retweet_count  favorite_count  is_retweet  \\\n",
       "0 2017-12-30 22:42:09+00:00          24332          117013       False   \n",
       "1 2017-12-30 22:36:41+00:00          50342          195754       False   \n",
       "2 2017-12-30 21:12:45+00:00          16703           73325       False   \n",
       "3 2017-12-30 19:02:53+00:00          23270           78932       False   \n",
       "4 2017-12-30 19:00:54+00:00          23532           77986       False   \n",
       "\n",
       "               id_str  \n",
       "0  947236393184628736  \n",
       "1  947235015343202304  \n",
       "2  947213895286054912  \n",
       "3  947181212468203520  \n",
       "4  947180713236934656  "
      ]
     },
     "execution_count": 44,
     "metadata": {},
     "output_type": "execute_result"
    }
   ],
   "source": [
    "trump_df.head()"
   ]
  },
  {
   "cell_type": "markdown",
   "metadata": {},
   "source": [
    "We will come back to the awesomeness of `pandas` and dataframes; for now, we will focus on reading and writing data. We can read in write most forms of data with `pandas`, including the data formats described above:"
   ]
  },
  {
   "cell_type": "code",
   "execution_count": 45,
   "metadata": {},
   "outputs": [],
   "source": [
    "trump = trump_df.to_dict(orient=\"records\")"
   ]
  },
  {
   "cell_type": "code",
   "execution_count": 39,
   "metadata": {},
   "outputs": [
    {
     "data": {
      "text/plain": [
       "{'source': 'Twitter for iPhone',\n",
       " 'id_str': 9.47e+17,\n",
       " 'text': 'Jobs are kicking in and companies are coming back to the U.S. Unnecessary regulations and high taxes are being dramatically Cut, and it will only get better. MUCH MORE TO COME!',\n",
       " 'is_retweet': False,\n",
       " 'retweet_count': 24332,\n",
       " 'favorite_count': 117013}"
      ]
     },
     "execution_count": 39,
     "metadata": {},
     "output_type": "execute_result"
    }
   ],
   "source": [
    "trump[0]"
   ]
  },
  {
   "cell_type": "code",
   "execution_count": null,
   "metadata": {},
   "outputs": [],
   "source": [
    "# Read a json file\n",
    "trump_df_json = pd.read_json('data/trump_tweets_2017.json')"
   ]
  },
  {
   "cell_type": "markdown",
   "metadata": {},
   "source": [
    "## Our first program: pulling it all together\n",
    "\n",
    "The final step in our whirlwind tour of Python is to pull our code together into a single \"program\" (i.e., a collection of functions that, when executed, perform a task). We will stick with our Twitter example.\n",
    "\n",
    "<b>Example 6</b>: Write a Python program that reads a CSV file of Tweets, searches for a particular keyword, and returns the relevant Tweets."
   ]
  },
  {
   "cell_type": "code",
   "execution_count": 46,
   "metadata": {},
   "outputs": [],
   "source": [
    "# Import dependencies\n",
    "import csv\n",
    "\n",
    "# Let's write a function to read a CSV file\n",
    "def read_csv(path):\n",
    "    '''This function takes an (absolute) path to a CSV file and\n",
    "       returns a utf-8 encoded list of tweets and the header of\n",
    "       field \"labels\" associated with the CSV. Note that we assume\n",
    "       that the first row of the input file is the header.\n",
    "    \n",
    "       Arguments:\n",
    "       ----------\n",
    "       path: absolute path to the CSV file.\n",
    "       \n",
    "      \n",
    "       Returns:\n",
    "       --------\n",
    "       A dictionary with the header labels and the Tweets.\n",
    "    '''\n",
    "    \n",
    "    with open(path, 'r') as csvfile:\n",
    "        # Connect to file\n",
    "        csvreader = csv.reader(csvfile)\n",
    "\n",
    "        # Read the tweets\n",
    "        tweets = [row for row in csvreader]\n",
    "    \n",
    "    return {'header': tweets[0], 'tweets': tweets[1:]}\n",
    "\n",
    "\n",
    "# See if a tweet includes the relevant keyword\n",
    "def lookup(tweet, keyword):\n",
    "    '''This function takes a tweet and keyword, and returns True if the \n",
    "       keyword is present and False otherwise.\n",
    "       \n",
    "       Arguments:\n",
    "       ----------\n",
    "       tweet: The text of a Tweet\n",
    "       keyword: The keyword of interest to lookup\n",
    "       \n",
    "       Returns:\n",
    "       --------\n",
    "       True if the keyword is present and False otherwise\n",
    "    '''\n",
    "    \n",
    "    # Standardize keyword and Tweet to use lowercase\n",
    "    if keyword.lower() in tweet.lower():\n",
    "        return True\n",
    "    else:\n",
    "        return False\n",
    "\n",
    "\n",
    "# Main function to search a CSV of tweets\n",
    "def search_tweets(keyword, path, text_idx = 2):\n",
    "    '''This function takes a keyword and absolute path to\n",
    "       to a CSV file of Tweets and returns a new list of\n",
    "       Tweets that contain the keyword.\n",
    "       \n",
    "       Arguments:\n",
    "       ----------\n",
    "       keyword:  The keyword of interest to lookup in the Tweet\n",
    "       path: The absolute path to the CSV file holding the Tweets\n",
    "       text_idx: Is the index for the element holding the Tweet text\n",
    "                 (defaults to index = 2)\n",
    "    '''\n",
    "    \n",
    "    # Read CSV content\n",
    "    content = read_csv(path)\n",
    "    \n",
    "    # Search Tweets for keyword\n",
    "    key_tweets = [tweet for tweet in content['tweets'] \n",
    "                  if lookup(tweet[text_idx], keyword) == True]\n",
    "    \n",
    "    print('Found %s tweets about %s' % (len(key_tweets), keyword))\n",
    "    \n",
    "    return key_tweets\n"
   ]
  },
  {
   "cell_type": "markdown",
   "metadata": {},
   "source": [
    "We can now execute the `search_tweets` function to search a CSV of Tweets for a particular keyword:"
   ]
  },
  {
   "cell_type": "code",
   "execution_count": 47,
   "metadata": {},
   "outputs": [
    {
     "name": "stdout",
     "output_type": "stream",
     "text": [
      "Found 36 tweets about CNN\n"
     ]
    }
   ],
   "source": [
    "res = search_tweets('CNN', 'data/trump_tweets_2017.csv')"
   ]
  },
  {
   "cell_type": "markdown",
   "metadata": {},
   "source": [
    "And we can inspect the individual Tweets as per usual:"
   ]
  },
  {
   "cell_type": "code",
   "execution_count": 48,
   "metadata": {},
   "outputs": [
    {
     "name": "stdout",
     "output_type": "stream",
     "text": [
      "['Twitter for iPhone', '9.40E+17', 'Another false story, this time in the Failing @nytimes, that I watch 4-8 hours of television a day - Wrong!  Also, I seldom, if ever, watch CNN or MSNBC, both of which I consider Fake News. I never watch Don Lemon, who I once called the “dumbest man on television!” Bad Reporting.', 'FALSE', '34018', '138768']\n"
     ]
    }
   ],
   "source": [
    "print(res[0])"
   ]
  },
  {
   "cell_type": "markdown",
   "metadata": {},
   "source": [
    "## A bit more on the `pandas` (and `numpy`) library\n",
    "\n",
    "We've covered pretty much all there is to know regarding base Python (at least so far as this class is concerned). However, more and more, I'm using the `pandas` library for all of my data wrangling needs and so you should too! `pandas` on top of the highly efficient and flexible NumPy library (you will find most of the libraries that you use are built on top of `numpy`).\n",
    "\n",
    "Let's take a quick tour of `pandas` -- we will come back to `pandas` throughout the course!"
   ]
  },
  {
   "cell_type": "markdown",
   "metadata": {},
   "source": [
    "### Reading and writing data\n",
    "\n",
    "We can use ``pandas`` to read and write various forms of data. For instance, a CSV file:"
   ]
  },
  {
   "cell_type": "code",
   "execution_count": null,
   "metadata": {},
   "outputs": [],
   "source": [
    "# Import the pandas library using the namespace \"pd\" to save on typing\n",
    "import pandas as pd\n",
    "\n",
    "# Read the Trump tweets CSV into a pandas \"dataframe\"\n",
    "trump_df = pd.read_csv('data/trump_tweets_2017.csv')"
   ]
  },
  {
   "cell_type": "markdown",
   "metadata": {},
   "source": [
    "This loads our tweets CSV into a new data type unique to pandas: the \"data frame\". Like in **R**, we can look at the first couple of row by using the head method:"
   ]
  },
  {
   "cell_type": "code",
   "execution_count": null,
   "metadata": {},
   "outputs": [],
   "source": [
    "trump_df.head()"
   ]
  },
  {
   "cell_type": "markdown",
   "metadata": {},
   "source": [
    "We can do the same thing with a JSON file:"
   ]
  },
  {
   "cell_type": "code",
   "execution_count": null,
   "metadata": {},
   "outputs": [],
   "source": [
    "# Read a json file\n",
    "trump_df_json = pd.read_json('data/trump_tweets_2017.json')\n",
    "trump_df_json.head()"
   ]
  },
  {
   "cell_type": "markdown",
   "metadata": {},
   "source": [
    "Dataframes represent tabular data organized by variable (or what `pandas` refers to as \"series\"). You can call a variable in two ways:"
   ]
  },
  {
   "cell_type": "code",
   "execution_count": null,
   "metadata": {},
   "outputs": [],
   "source": [
    "# You can use a \".\"\n",
    "print(trump_df.retweet_count.shape)\n",
    "\n",
    "# Our you can call it using the name (or the \"key\")\n",
    "print(trump_df['retweet_count'].shape)"
   ]
  },
  {
   "cell_type": "markdown",
   "metadata": {},
   "source": [
    "Here, we looked at the length of the vector \"retweet_count\", but `pandas` series \"objects\" have all sorts of \"methods\" attached to them. For instance:"
   ]
  },
  {
   "cell_type": "code",
   "execution_count": null,
   "metadata": {},
   "outputs": [],
   "source": [
    "print('The mean retweet_count =')\n",
    "print(trump_df.retweet_count.mean())\n",
    "\n",
    "print('Here is a frequency table for \"source\"')\n",
    "print(trump_df.source.value_counts())"
   ]
  },
  {
   "cell_type": "markdown",
   "metadata": {},
   "source": [
    "Now, to the internet to learn more about `pandas`!\n",
    "\n",
    "<https://www.learndatasci.com/tutorials/python-pandas-tutorial-complete-introduction-for-beginners/>"
   ]
  },
  {
   "cell_type": "markdown",
   "metadata": {},
   "source": [
    "## Object oriented programming\n",
    "\n",
    "In the geekier corners of the internet (or the University campus), there's an on-going debate on the benefits and drawbacks of functional progamming (FP) versus object oriented programming (OOP). You can ignore these debates! However, when using Python, you will often run into the use of \"<b>classes</b>\" and thus it is important to have some knowledge of what a \"class\" is. Providing the knowledge is the goal of this section. (Note: for an excellent introduction to classes in Python, see <i>Byte of Python</i> chapter on <a href=\"https://python.swaroopch.com/oop.html\">Object Oriented Programming</a>.)\n",
    "\n",
    "We have actually already run into classes. For instance, the `csv.reader`code that we used to import a CSV file above, is a \"class.\" "
   ]
  },
  {
   "cell_type": "code",
   "execution_count": null,
   "metadata": {},
   "outputs": [],
   "source": [
    "print(csvreader)"
   ]
  },
  {
   "cell_type": "code",
   "execution_count": null,
   "metadata": {},
   "outputs": [],
   "source": [
    "\"Good bye Donald!\".lower()"
   ]
  },
  {
   "cell_type": "markdown",
   "metadata": {},
   "source": [
    "This tells us that the `csvreader` that we assigned above is an object of the UnicodeReader `class`. Great, but what does all this actually mean?\n",
    "\n",
    "### The `class` function\n",
    "\n",
    "OOP is a paradigm of programming built on the idea of classes of <b>objects</b>---i.e., a structure that holds data (often referred to as \"attributes\" and functions or procedures (often referred as \"methods\"). As an example, say we were interested in defining \"classes\" of people walking around this university. There are different types of people and these people do different things. We can define a `professor` class as follows:"
   ]
  },
  {
   "cell_type": "code",
   "execution_count": 49,
   "metadata": {},
   "outputs": [],
   "source": [
    "# Define the \"professor\" class. \n",
    "class professor:\n",
    "    pass"
   ]
  },
  {
   "cell_type": "code",
   "execution_count": 50,
   "metadata": {},
   "outputs": [],
   "source": [
    "prof = professor()"
   ]
  },
  {
   "cell_type": "code",
   "execution_count": 51,
   "metadata": {},
   "outputs": [
    {
     "name": "stdout",
     "output_type": "stream",
     "text": [
      "<__main__.professor object at 0x7ff38d432f10>\n"
     ]
    }
   ],
   "source": [
    "print(prof)"
   ]
  },
  {
   "cell_type": "markdown",
   "metadata": {},
   "source": [
    "We now have a professor class, but they don't actually do anything. We can add a <b>method</b>, as follows:"
   ]
  },
  {
   "cell_type": "code",
   "execution_count": 53,
   "metadata": {},
   "outputs": [],
   "source": [
    "# Define the \"professor\" class. \n",
    "class professor:\n",
    "    def pontificate(self):\n",
    "        print(\"I'm a professor. Blah, blah, blah.\")\n",
    "        "
   ]
  },
  {
   "cell_type": "markdown",
   "metadata": {},
   "source": [
    "Now our professor does what professors do best: pontificate! We can now instantiate our class and call the `pontificate` method:"
   ]
  },
  {
   "cell_type": "code",
   "execution_count": 54,
   "metadata": {},
   "outputs": [],
   "source": [
    "prof = professor()"
   ]
  },
  {
   "cell_type": "code",
   "execution_count": 55,
   "metadata": {},
   "outputs": [
    {
     "name": "stdout",
     "output_type": "stream",
     "text": [
      "I'm a professor. Blah, blah, blah.\n"
     ]
    }
   ],
   "source": [
    "prof.pontificate()"
   ]
  },
  {
   "cell_type": "raw",
   "metadata": {},
   "source": []
  },
  {
   "cell_type": "code",
   "execution_count": null,
   "metadata": {},
   "outputs": [],
   "source": [
    "# Initialize class\n",
    "travis = professor()\n",
    "\n",
    "# Call method\n",
    "travis.pontificate()"
   ]
  },
  {
   "cell_type": "markdown",
   "metadata": {},
   "source": [
    "Great, but we still have a bunch of unanswered questions? What's this `self` thingy? How do I store and pass <b>attributes</b> to my professor class? Let's start with the second question. Say we wanted to add two attributes to our professor `class`: a `name` and `subject` attribute. "
   ]
  },
  {
   "cell_type": "code",
   "execution_count": 56,
   "metadata": {},
   "outputs": [],
   "source": [
    "# Define the \"professor\" class. \n",
    "class professor:\n",
    "    def __init__(self, name, subject):\n",
    "        self.name = name\n",
    "        self.subject = subject\n",
    "    \n",
    "    def pontificate(self):\n",
    "        print(\"My name is %s. I teach %s. Blah, blah, blah.\" % (self.name, self.subject))"
   ]
  },
  {
   "cell_type": "markdown",
   "metadata": {},
   "source": [
    "As shown above, we can add attributes to our class by defining a `__init__` method and then attaching the `self` object. Now if we instantiate and call `pontificate`:"
   ]
  },
  {
   "cell_type": "code",
   "execution_count": null,
   "metadata": {},
   "outputs": [],
   "source": [
    "# Intialize class\n",
    "travis = professor('jason', 'public opinion')\n",
    "print(travis)\n",
    "# Call method\n",
    "#travis.pontificate()"
   ]
  },
  {
   "cell_type": "markdown",
   "metadata": {},
   "source": [
    "Again, it is not super important for you to understand how classes work for this class (no pun intended!). You just need to know that they exist, you initialize them with a set of attributes, and then \"use\" them by calling their methods."
   ]
  }
 ],
 "metadata": {
  "kernelspec": {
   "display_name": "Python 3",
   "language": "python",
   "name": "python3"
  },
  "language_info": {
   "codemirror_mode": {
    "name": "ipython",
    "version": 3
   },
   "file_extension": ".py",
   "mimetype": "text/x-python",
   "name": "python",
   "nbconvert_exporter": "python",
   "pygments_lexer": "ipython3",
   "version": "3.8.5"
  }
 },
 "nbformat": 4,
 "nbformat_minor": 2
}
